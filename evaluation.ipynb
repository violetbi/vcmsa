{
 "cells": [
  {
   "cell_type": "code",
   "execution_count": 1,
   "id": "d45bbf63-1ba5-45ce-8004-2a67738d3f9b",
   "metadata": {},
   "outputs": [],
   "source": [
    "from Bio import SeqIO"
   ]
  },
  {
   "cell_type": "code",
   "execution_count": 2,
   "id": "136d30cf-91ce-4fba-b4b6-1c7fe3ee6a25",
   "metadata": {},
   "outputs": [],
   "source": [
    "def total_column_score(predicted_alignment, reference_alignment):\n",
    "    # Ensure the lengths of the alignments are consistent\n",
    "    num_sequences = len(reference_alignment)\n",
    "    num_columns = len(reference_alignment[0])\n",
    "    \n",
    "    total_score = 0\n",
    "    \n",
    "    # Iterate over each column\n",
    "    for col in range(num_columns):\n",
    "        # Compare the corresponding column in each sequence\n",
    "        matches = True\n",
    "        for seq in range(num_sequences):\n",
    "            if predicted_alignment[seq][col] != reference_alignment[seq][col]:\n",
    "                matches = False\n",
    "                break\n",
    "        # If all sequences match in this column, increment score\n",
    "        if matches:\n",
    "            total_score += 1\n",
    "    \n",
    "    return total_score"
   ]
  },
  {
   "cell_type": "code",
   "execution_count": 3,
   "id": "5bd95fc9-a8d6-4d72-94f6-65e167e32184",
   "metadata": {},
   "outputs": [],
   "source": [
    "with open('LDLa.vie.20seqs.fasta.16layer.t5.aln', 'r') as file:\n",
    "    lines = file.readlines()\n",
    "\n",
    "# Initialize a dictionary to store the sequences\n",
    "sequences = {\n",
    "    \"seq0001\": \"\",\n",
    "    \"seq0002\": \"\",\n",
    "    \"seq0003\": \"\"\n",
    "}\n",
    "\n",
    "# Flag to track the correct lines for each sequence\n",
    "sequence_ids = [\"seq0001\", \"seq0002\", \"seq0003\"]\n",
    "\n",
    "# Loop through the lines and concatenate sequences\n",
    "for line in lines:\n",
    "    line = line.strip()  # Remove any leading/trailing whitespaces\n",
    "    for seq_id in sequence_ids:\n",
    "        if line.startswith(seq_id):\n",
    "            # Extract and concatenate only the sequence part (everything after the sequence ID)\n",
    "            sequences[seq_id] += line.split()[1]"
   ]
  },
  {
   "cell_type": "code",
   "execution_count": 4,
   "id": "13797fe9-31ea-4cd1-b09f-e2cd7f977309",
   "metadata": {},
   "outputs": [],
   "source": [
    "# Assign to predicted_alignment_model\n",
    "predicted_alignment_model = [\n",
    "    sequences[\"seq0001\"],  # Concatenated seq0001\n",
    "    sequences[\"seq0002\"],  # Concatenated seq0002\n",
    "    sequences[\"seq0003\"]   # Concatenated seq0003\n",
    "]\n",
    "\n",
    "# Print predicted_alignment_model for verification\n",
    "# for seq in predicted_alignment_model:\n",
    "#     print(seq)"
   ]
  },
  {
   "cell_type": "code",
   "execution_count": 5,
   "id": "ef2a36bb-0bf6-4ba8-ad3a-264732a2b4ef",
   "metadata": {},
   "outputs": [],
   "source": [
    "fasta_file_Asp_Glu_race_D_20seqs_ref = \"Asp_Glu_race_D.ref\"\n",
    "fasta_file_LDLa_20seqs_ref = \"LDLa.ref\"\n",
    "\n",
    "\n",
    "fasta_file_Asp_Glu_race_D_20seqs_mafft_ginsi = \"MAFFT_GINSI_aligned_Asp_Glu_race_D.vie.20seqs.fasta\"\n",
    "fasta_file_LDLa_20seqs_mafft_ginsi = \"MAFFT_GINSI_aligned_LDLa.vie.20seqs.fasta\"\n",
    "\n",
    "\n",
    "def read_selected_fasta_sequences(filepath, seq_ids):\n",
    "    selected_sequences = {}\n",
    "    for record in SeqIO.parse(filepath, \"fasta\"):\n",
    "        if record.id in seq_ids:  # Only capture the sequences in the ref\n",
    "            selected_sequences[record.id] = str(record.seq)\n",
    "    return selected_sequences\n",
    "\n",
    "# List of sequence IDs to extract\n",
    "selected_ids = [\"seq0001\", \"seq0002\", \"seq0003\"]\n",
    "\n",
    "Asp_Glu_race_D_20seqs_ref = read_selected_fasta_sequences(fasta_file_Asp_Glu_race_D_20seqs_ref, selected_ids)\n",
    "LDLa_20seqs_ref = read_selected_fasta_sequences(fasta_file_LDLa_20seqs_mafft_ginsi, selected_ids)\n",
    "\n",
    "Asp_Glu_race_D_20seqs_mafft_ginsi = read_selected_fasta_sequences(fasta_file_Asp_Glu_race_D_20seqs_mafft_ginsi, selected_ids)\n",
    "LDLa_20seqs_mafft_ginsi = read_selected_fasta_sequences(fasta_file_LDLa_20seqs_mafft_ginsi, selected_ids)\n",
    "\n"
   ]
  },
  {
   "cell_type": "code",
   "execution_count": 6,
   "id": "15ee9e4e-07e8-446f-abf9-cdfa52ce9ea4",
   "metadata": {},
   "outputs": [
    {
     "name": "stdout",
     "output_type": "stream",
     "text": [
      "seq0001: ----PC--SAFEFHCLSG---ECIHSSWRCDGGPDCKDKSDEEN---CA---\n",
      "seq0002: AVGDRC--ERNEFQCQDG---KCISYKWVCDGSAECQDGSDESQET-CLSVT\n",
      "seq0003: -LSVTC--KSGDFSCGGR-VNRCIPQFWRCDGQVDCDNGSDEQG---C----\n",
      "----PC--SAFEFHCLSG---ECIHSSWRCDGGPDCKDKSDEEN---CA---\n",
      "AVGDRC--ERNEFQCQDG---KCISYKWVCDGSAECQDGSDESQET-CLSVT\n",
      "-LSVTC--KSGDFSCGGR-VNRCIPQFWRCDGQVDCDNGSDEQG---C----\n"
     ]
    }
   ],
   "source": [
    "def extract_sequences(file_path, sequence_ids):\n",
    "    \"\"\"\n",
    "    Extracts and concatenates sequences for the specified sequence IDs from a multiple sequence alignment file.\n",
    "    \n",
    "    Args:\n",
    "    file_path (str): Path to the alignment file.\n",
    "    sequence_ids (list): List of sequence IDs to extract (e.g., [\"seq0001\", \"seq0002\", \"seq0003\"]).\n",
    "    \n",
    "    Returns:\n",
    "    dict: A dictionary where keys are sequence IDs and values are the concatenated sequences.\n",
    "    \"\"\"\n",
    "    # Initialize a dictionary to store the sequences\n",
    "    sequences = {seq_id: \"\" for seq_id in sequence_ids}\n",
    "\n",
    "    with open(file_path, 'r') as file:\n",
    "        lines = file.readlines()\n",
    "\n",
    "    # Loop through the lines and concatenate sequences for the specified sequence IDs\n",
    "    for line in lines:\n",
    "        line = line.strip()  # Remove any leading/trailing whitespaces\n",
    "        for seq_id in sequence_ids:\n",
    "            if line.startswith(seq_id):\n",
    "                # Extract and concatenate only the sequence part (everything after the sequence ID)\n",
    "                sequences[seq_id] += line.split()[1]\n",
    "    \n",
    "    return sequences\n",
    "\n",
    "sequence_ids = [\"seq0001\", \"seq0002\", \"seq0003\"]\n",
    "file_path = 'LDLa.vie.20seqs.fasta.16layer.t5.aln'\n",
    "\n",
    "sequences = extract_sequences(file_path, sequence_ids)\n",
    "\n",
    "for seq_id, sequence in sequences.items():\n",
    "    print(f\"{seq_id}: {sequence}\")\n",
    "\n",
    "predicted_alignment_model = [sequences[seq_id] for seq_id in sequence_ids]\n",
    "\n",
    "\n",
    "for seq in predicted_alignment_model:\n",
    "    print(seq)\n"
   ]
  },
  {
   "cell_type": "code",
   "execution_count": 7,
   "id": "867b0223-04ee-4f12-9095-407d095a7ce0",
   "metadata": {},
   "outputs": [],
   "source": [
    "predicted_alignment_model_MAFFT_GINSI = [\n",
    "    LDLa_20seqs_mafft_ginsi[\"seq0001\"], \n",
    "    LDLa_20seqs_mafft_ginsi[\"seq0002\"],  \n",
    "    LDLa_20seqs_mafft_ginsi[\"seq0003\"]   \n",
    "]"
   ]
  },
  {
   "cell_type": "code",
   "execution_count": 8,
   "id": "57476144-246e-41b0-ae00-20d6b34efa21",
   "metadata": {},
   "outputs": [
    {
     "data": {
      "text/plain": [
       "['----PCS--AFEFHCLSG---ECIHSSWRCDGGPDCKDKSDEEN---CA---',\n",
       " 'AVGDRCE--RNEFQCQDG---KCISYKWVCDGSAECQDGSDESQET-CLSVT',\n",
       " '-LSVTCK--SGDFSCGGR-VNRCIPQFWRCDGQVDCDNGSDEQG---C----']"
      ]
     },
     "execution_count": 8,
     "metadata": {},
     "output_type": "execute_result"
    }
   ],
   "source": [
    "sequence_ids = [\"seq0001\", \"seq0002\", \"seq0003\"]\n",
    "file_path = 'LDLa.vie.20seqs.fasta.16layer.bert.aln'\n",
    "\n",
    "\n",
    "predicted_alignment_model_bert = extract_sequences(file_path, sequence_ids)\n",
    "predicted_alignment_model_bert = [\n",
    "    predicted_alignment_model_bert[\"seq0001\"],  \n",
    "    predicted_alignment_model_bert[\"seq0002\"],  \n",
    "    predicted_alignment_model_bert[\"seq0003\"]   \n",
    "]\n",
    "predicted_alignment_model_bert"
   ]
  },
  {
   "cell_type": "code",
   "execution_count": 9,
   "id": "8bd12053-94a2-4729-b58b-ed705ba761eb",
   "metadata": {},
   "outputs": [
    {
     "data": {
      "text/plain": [
       "['----PC--SAFEFHCLSG---ECIHSSWRCDGGPDCKDKSDEEN---CA---',\n",
       " 'AVGDRC--ERNEFQCQDG---KCISYKWVCDGSAECQDGSDESQET-CLSVT',\n",
       " '-LSVTC--KSGDFSCGGR-VNRCIPQFWRCDGQVDCDNGSDEQG---C----']"
      ]
     },
     "execution_count": 9,
     "metadata": {},
     "output_type": "execute_result"
    }
   ],
   "source": [
    "file_path = 'LDLa.vie.20seqs.fasta.16layer.t5.aln'\n",
    "\n",
    "predicted_alignment_model_t5 = extract_sequences(file_path, sequence_ids)\n",
    "predicted_alignment_model_t5 = [\n",
    "    predicted_alignment_model_t5[\"seq0001\"],  \n",
    "    predicted_alignment_model_t5[\"seq0002\"],  \n",
    "    predicted_alignment_model_t5[\"seq0003\"]   \n",
    "]\n",
    "predicted_alignment_model_t5"
   ]
  },
  {
   "cell_type": "code",
   "execution_count": 10,
   "id": "a456d957-3bbf-4562-b5bd-86406c8d0984",
   "metadata": {},
   "outputs": [
    {
     "name": "stdout",
     "output_type": "stream",
     "text": [
      "Total column score for bert: 7\n",
      "Total column score for prot5: 6\n",
      "Total column score for MAFFT_GINSI: 7\n",
      "Total column score: 48\n"
     ]
    }
   ],
   "source": [
    "\n",
    "reference_alignment = [\n",
    "    \"----PCSAFEFHCLS--GECIHSSWRCDGGPDCKDKSDEEN--CA---\",\n",
    "    \"AVGDRCERNEFQCQ--DGKCISYKWVCDGSAECQDGSDESQETCLSVT\",\n",
    "    \"-LSVTCKSGDFSCGGRVNRCIPQFWRCDGQVDCDNGSDEQG--C----\"\n",
    "]\n",
    "\n",
    "score_model1 = total_column_score(predicted_alignment_model_bert, reference_alignment)\n",
    "score_model2 = total_column_score(predicted_alignment_model_t5, reference_alignment)\n",
    "score_model3 = total_column_score(predicted_alignment_model_MAFFT_GINSI, reference_alignment)\n",
    "\n",
    "\n",
    "score_model_sum = total_column_score(reference_alignment, reference_alignment)\n",
    "\n",
    "print(f\"Total column score for bert: {score_model1}\")\n",
    "print(f\"Total column score for prot5: {score_model2}\")\n",
    "print(f\"Total column score for MAFFT_GINSI: {score_model3}\")\n",
    "print(f\"Total column score: {score_model_sum}\")\n"
   ]
  },
  {
   "cell_type": "code",
   "execution_count": 11,
   "id": "464d4dea-adae-48fd-97f4-3d15d236a958",
   "metadata": {},
   "outputs": [],
   "source": [
    "reference_alignment = [\n",
    "    Asp_Glu_race_D_20seqs_ref[\"seq0001\"],\n",
    "    Asp_Glu_race_D_20seqs_ref[\"seq0002\"], \n",
    "    Asp_Glu_race_D_20seqs_ref[\"seq0003\"]  \n",
    "]"
   ]
  },
  {
   "cell_type": "code",
   "execution_count": 12,
   "id": "b21c87eb-071a-4049-be26-df793c0ed6b9",
   "metadata": {},
   "outputs": [],
   "source": [
    "predicted_alignment_model_MAFFT_GINSI = [\n",
    "    Asp_Glu_race_D_20seqs_mafft_ginsi[\"seq0001\"],  \n",
    "    Asp_Glu_race_D_20seqs_mafft_ginsi[\"seq0002\"],  \n",
    "    Asp_Glu_race_D_20seqs_mafft_ginsi[\"seq0003\"]  \n",
    "]\n"
   ]
  },
  {
   "cell_type": "code",
   "execution_count": 13,
   "id": "d7aafe07-7f83-4255-900d-6bd249463bec",
   "metadata": {},
   "outputs": [
    {
     "data": {
      "text/plain": [
       "['-----MKIG-I--FDSGVGGLTVLKAIRN----RYRK-----------VDIVYLG--DTARVPYG-----IRSKDTIIRYSLECAGFLKD-KGVDIIVVACNTASAYAL--ERLKKEI--NVPVFGVIEPGVKEALKKSR---------------------------------------------------------------------------------------------------------------------------------',\n",
       " '----------------------------------------------------------------------------------------------------------------------------------------------NKKIGVIGTPATVK-SGAYQRKLEEG----GADVFAKACPLF---APL----AEEGLLEG-EITRKVVEHYLKEFK--GKIDTLILGCTHYPLLKKEIKKFLGD----AEVVDSSEALSLSLHNFIK',\n",
       " '----MKTIGILGGMG-PLATAELFRRIVI----KTPAKRDQ-----EHPKVIIFNNPQ---IPDRTAYIL-GKGEDPRPQLIWTAKRLEE-CGADFIIMPCNTAHA-FV--EDIRKAI--KIPIISMIEETAKKVKEL---G-------------------------------------------------------------------------------------------------------------------------------']"
      ]
     },
     "execution_count": 13,
     "metadata": {},
     "output_type": "execute_result"
    }
   ],
   "source": [
    "sequence_ids = [\"seq0001\", \"seq0002\", \"seq0003\"]\n",
    "file_path = 'Asp_Glu_race_D.vie.20seqs.fasta.16layer.bert.aln'\n",
    "\n",
    "predicted_alignment_model_bert = extract_sequences(file_path, sequence_ids)\n",
    "predicted_alignment_model_bert = [\n",
    "    predicted_alignment_model_bert[\"seq0001\"],  \n",
    "    predicted_alignment_model_bert[\"seq0002\"],  \n",
    "    predicted_alignment_model_bert[\"seq0003\"]   \n",
    "]\n",
    "predicted_alignment_model_bert"
   ]
  },
  {
   "cell_type": "code",
   "execution_count": 14,
   "id": "c18ce6cb-ce76-4031-8a7b-e42bbb957931",
   "metadata": {},
   "outputs": [
    {
     "data": {
      "text/plain": [
       "['M-KIGIFDSGVGGLT------VLKAI----RNRYR--K------VDIVYLG-DTARV----P---Y------GI--RSK--DT---IIRYSLECAGFLK-D-KGVDIIVVACNT-ASAYA-LERLKK----EI----NV-PV--FGV---IE--PGVKEA----L---KK---------------------------------------------------------------------------------------------------------------------------------------------SR',\n",
       " 'NKKIGVIG-TPA--T-VKSGAYQRKLEE----GG----------ADVFAKA-CPL-FA---P---L---AEEGL----LEGEI---TRKVVEHYLKEFK-G-K-IDTLILGC-THY-PLL-KKEIKK----FL---GDA-EV--VDS---SE--ALSLSL----H---NFI--------------------------------------------------------------------------------------------------------------------------------------------K-',\n",
       " 'MKTIGILG-GMGPLATA---ELFRRIVI----KTP-AKRDQEH-PKVIIFN--N----PQIP--DRTAY-ILGK----G--ED---PRPQLIWTAKRLE-E-CGADFIIMPCNT-A-HAF-VEDIRK----AI----KI-PI--ISM---IE--ETAKKV----K---E----------------------------------------------------------------------------------------------------------------------------------------------LG']"
      ]
     },
     "execution_count": 14,
     "metadata": {},
     "output_type": "execute_result"
    }
   ],
   "source": [
    "file_path = 'Asp_Glu_race_D.vie.20seqs.fasta.16layer.t5.aln'\n",
    "\n",
    "predicted_alignment_model_t5 = extract_sequences(file_path, sequence_ids)\n",
    "predicted_alignment_model_t5 = [\n",
    "    predicted_alignment_model_t5[\"seq0001\"], \n",
    "    predicted_alignment_model_t5[\"seq0002\"],  \n",
    "    predicted_alignment_model_t5[\"seq0003\"]   \n",
    "]\n",
    "predicted_alignment_model_t5"
   ]
  },
  {
   "cell_type": "code",
   "execution_count": 15,
   "id": "99dee34b-9119-45e6-a2db-a53a4fdc723f",
   "metadata": {},
   "outputs": [
    {
     "name": "stdout",
     "output_type": "stream",
     "text": [
      "Total column score for bert: 0\n",
      "Total column score for prot5: 6\n",
      "Total column score for MAFFT_GINSI: 0\n",
      "Total column score : 123\n"
     ]
    }
   ],
   "source": [
    "score_model1 = total_column_score(predicted_alignment_model_bert, reference_alignment)\n",
    "score_model2 = total_column_score(predicted_alignment_model_t5, reference_alignment)\n",
    "\n",
    "score_model3 = total_column_score(predicted_alignment_model_MAFFT_GINSI, reference_alignment)\n",
    "\n",
    "score_model_sum = total_column_score(reference_alignment, reference_alignment)\n",
    "\n",
    "print(f\"Total column score for bert: {score_model1}\")\n",
    "print(f\"Total column score for prot5: {score_model2}\")\n",
    "print(f\"Total column score for MAFFT_GINSI: {score_model3}\")\n",
    "print(f\"Total column score : {score_model_sum}\")"
   ]
  },
  {
   "cell_type": "code",
   "execution_count": null,
   "id": "12f675ed-a10a-4e7a-aa50-94192a513cc3",
   "metadata": {},
   "outputs": [],
   "source": []
  }
 ],
 "metadata": {
  "kernelspec": {
   "display_name": "Python (jupyter)",
   "language": "python",
   "name": "jupyter"
  },
  "language_info": {
   "codemirror_mode": {
    "name": "ipython",
    "version": 3
   },
   "file_extension": ".py",
   "mimetype": "text/x-python",
   "name": "python",
   "nbconvert_exporter": "python",
   "pygments_lexer": "ipython3",
   "version": "3.12.7"
  }
 },
 "nbformat": 4,
 "nbformat_minor": 5
}
